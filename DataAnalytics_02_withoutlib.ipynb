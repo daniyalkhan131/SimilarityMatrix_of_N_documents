{
 "cells": [
  {
   "cell_type": "code",
   "execution_count": 18,
   "metadata": {},
   "outputs": [],
   "source": [
    "file=open('cosine_similaritydocs.txt','r')\n",
    "docs= file.read().split('\\n')"
   ]
  },
  {
   "cell_type": "code",
   "execution_count": 19,
   "metadata": {},
   "outputs": [
    {
     "data": {
      "text/plain": [
       "['my name is Daiyal khan',\n",
       " 'my name is humaid Khan khan khan khan',\n",
       " 'my name is owais shah',\n",
       " 'my name is faisal khan',\n",
       " 'my name is daiyal khan']"
      ]
     },
     "execution_count": 19,
     "metadata": {},
     "output_type": "execute_result"
    }
   ],
   "source": [
    "docs"
   ]
  },
  {
   "cell_type": "code",
   "execution_count": 20,
   "metadata": {},
   "outputs": [],
   "source": [
    "docs_list=list()\n",
    "for i in docs:\n",
    "    docs_temp=i.lower().split()\n",
    "    docs_list.append(docs_temp)"
   ]
  },
  {
   "cell_type": "code",
   "execution_count": 21,
   "metadata": {},
   "outputs": [
    {
     "data": {
      "text/plain": [
       "[['my', 'name', 'is', 'daiyal', 'khan'],\n",
       " ['my', 'name', 'is', 'humaid', 'khan', 'khan', 'khan', 'khan'],\n",
       " ['my', 'name', 'is', 'owais', 'shah'],\n",
       " ['my', 'name', 'is', 'faisal', 'khan'],\n",
       " ['my', 'name', 'is', 'daiyal', 'khan']]"
      ]
     },
     "execution_count": 21,
     "metadata": {},
     "output_type": "execute_result"
    }
   ],
   "source": [
    "docs_list"
   ]
  },
  {
   "cell_type": "code",
   "execution_count": 22,
   "metadata": {},
   "outputs": [],
   "source": [
    "unique_words=list()\n",
    "for i in docs_list:\n",
    "    unique_words=unique_words+i"
   ]
  },
  {
   "cell_type": "code",
   "execution_count": 23,
   "metadata": {},
   "outputs": [
    {
     "data": {
      "text/plain": [
       "['my',\n",
       " 'name',\n",
       " 'is',\n",
       " 'daiyal',\n",
       " 'khan',\n",
       " 'my',\n",
       " 'name',\n",
       " 'is',\n",
       " 'humaid',\n",
       " 'khan',\n",
       " 'khan',\n",
       " 'khan',\n",
       " 'khan',\n",
       " 'my',\n",
       " 'name',\n",
       " 'is',\n",
       " 'owais',\n",
       " 'shah',\n",
       " 'my',\n",
       " 'name',\n",
       " 'is',\n",
       " 'faisal',\n",
       " 'khan',\n",
       " 'my',\n",
       " 'name',\n",
       " 'is',\n",
       " 'daiyal',\n",
       " 'khan']"
      ]
     },
     "execution_count": 23,
     "metadata": {},
     "output_type": "execute_result"
    }
   ],
   "source": [
    "unique_words"
   ]
  },
  {
   "cell_type": "code",
   "execution_count": 24,
   "metadata": {},
   "outputs": [],
   "source": [
    "unique_words_set=list(set(unique_words))"
   ]
  },
  {
   "cell_type": "code",
   "execution_count": 25,
   "metadata": {},
   "outputs": [
    {
     "name": "stdout",
     "output_type": "stream",
     "text": [
      "['is', 'shah', 'khan', 'owais', 'daiyal', 'faisal', 'humaid', 'my', 'name']\n"
     ]
    }
   ],
   "source": [
    "print(unique_words_set)"
   ]
  },
  {
   "cell_type": "code",
   "execution_count": 26,
   "metadata": {},
   "outputs": [],
   "source": [
    "def find_frequency(document,word):\n",
    "    count=0\n",
    "    for i in document:\n",
    "        if i==word:\n",
    "            count=count+1\n",
    "    return count"
   ]
  },
  {
   "cell_type": "code",
   "execution_count": 27,
   "metadata": {},
   "outputs": [
    {
     "name": "stdout",
     "output_type": "stream",
     "text": [
      "is\n",
      "shah\n",
      "khan\n",
      "owais\n",
      "daiyal\n",
      "faisal\n",
      "humaid\n",
      "my\n",
      "name\n"
     ]
    }
   ],
   "source": [
    "size=len(unique_words_set)\n",
    "for i in range(size):\n",
    "    print(unique_words_set[i])"
   ]
  },
  {
   "cell_type": "code",
   "execution_count": 28,
   "metadata": {},
   "outputs": [
    {
     "name": "stdout",
     "output_type": "stream",
     "text": [
      "1\n",
      "1\n",
      "1\n",
      "1\n",
      "1\n",
      "0\n",
      "0\n",
      "1\n",
      "0\n",
      "0\n",
      "1\n",
      "4\n",
      "0\n",
      "1\n",
      "1\n",
      "0\n",
      "0\n",
      "1\n",
      "0\n",
      "0\n",
      "1\n",
      "0\n",
      "0\n",
      "0\n",
      "1\n",
      "0\n",
      "0\n",
      "0\n",
      "1\n",
      "0\n",
      "0\n",
      "1\n",
      "0\n",
      "0\n",
      "0\n",
      "1\n",
      "1\n",
      "1\n",
      "1\n",
      "1\n",
      "1\n",
      "1\n",
      "1\n",
      "1\n",
      "1\n"
     ]
    }
   ],
   "source": [
    "for i in range(size):\n",
    "    for j in range(len(docs_list)):\n",
    "        temp=find_frequency(docs_list[j],unique_words_set[i])\n",
    "        print(temp)"
   ]
  },
  {
   "cell_type": "code",
   "execution_count": 29,
   "metadata": {},
   "outputs": [],
   "source": [
    "frequency=list()\n",
    "for i in range(size):\n",
    "    count_list=list()\n",
    "    for j in range(len(docs_list)):\n",
    "        temp=find_frequency(docs_list[j],unique_words_set[i])\n",
    "        count_list.append(temp)\n",
    "    frequency.append(count_list)"
   ]
  },
  {
   "cell_type": "code",
   "execution_count": 30,
   "metadata": {},
   "outputs": [
    {
     "data": {
      "text/plain": [
       "[[1, 1, 1, 1, 1],\n",
       " [0, 0, 1, 0, 0],\n",
       " [1, 4, 0, 1, 1],\n",
       " [0, 0, 1, 0, 0],\n",
       " [1, 0, 0, 0, 1],\n",
       " [0, 0, 0, 1, 0],\n",
       " [0, 1, 0, 0, 0],\n",
       " [1, 1, 1, 1, 1],\n",
       " [1, 1, 1, 1, 1]]"
      ]
     },
     "execution_count": 30,
     "metadata": {},
     "output_type": "execute_result"
    }
   ],
   "source": [
    "# row=unique words and columns = docs\n",
    "frequency"
   ]
  },
  {
   "cell_type": "code",
   "execution_count": 31,
   "metadata": {},
   "outputs": [],
   "source": [
    "import numpy as np\n",
    "import math\n",
    "mod=[]\n",
    "for i in range(len(docs_list)):\n",
    "    count=0\n",
    "    for j in range(len(unique_words_set)):\n",
    "        count=count+frequency[j][i]**2\n",
    "    mod.append(math.sqrt(count))"
   ]
  },
  {
   "cell_type": "code",
   "execution_count": 32,
   "metadata": {},
   "outputs": [
    {
     "name": "stdout",
     "output_type": "stream",
     "text": [
      "[2.23606797749979, 4.47213595499958, 2.23606797749979, 2.23606797749979, 2.23606797749979]\n"
     ]
    }
   ],
   "source": [
    "print(mod)"
   ]
  },
  {
   "cell_type": "code",
   "execution_count": 33,
   "metadata": {},
   "outputs": [
    {
     "data": {
      "text/plain": [
       "[[1, 0, 1, 0, 1, 0, 0, 1, 1],\n",
       " [1, 0, 4, 0, 0, 0, 1, 1, 1],\n",
       " [1, 1, 0, 1, 0, 0, 0, 1, 1],\n",
       " [1, 0, 1, 0, 0, 1, 0, 1, 1],\n",
       " [1, 0, 1, 0, 1, 0, 0, 1, 1]]"
      ]
     },
     "execution_count": 33,
     "metadata": {},
     "output_type": "execute_result"
    }
   ],
   "source": [
    "temp_array=np.array(frequency)\n",
    "transpose=temp_array.T\n",
    "frequency1= transpose.tolist()\n",
    "frequency1"
   ]
  },
  {
   "cell_type": "code",
   "execution_count": 34,
   "metadata": {},
   "outputs": [],
   "source": [
    "frequency1\n",
    "def dot_product(a,b):\n",
    "    return(sum(i*j for i,j in zip(a,b)))"
   ]
  },
  {
   "cell_type": "code",
   "execution_count": 35,
   "metadata": {},
   "outputs": [],
   "source": [
    "cosine_similarity=list()\n",
    "\n",
    "for i in range(len(docs_list)):\n",
    "    ttemp=list()\n",
    "    for j in range(len(docs_list)):\n",
    "        \n",
    "        ttemp.append(dot_product(frequency1[i],frequency1[j])/(mod[i]*mod[j]))\n",
    "    cosine_similarity.append(ttemp)\n"
   ]
  },
  {
   "cell_type": "code",
   "execution_count": 36,
   "metadata": {},
   "outputs": [
    {
     "data": {
      "text/plain": [
       "[[0.9999999999999998,\n",
       "  0.6999999999999998,\n",
       "  0.5999999999999999,\n",
       "  0.7999999999999998,\n",
       "  0.9999999999999998],\n",
       " [0.6999999999999998,\n",
       "  0.9999999999999998,\n",
       "  0.29999999999999993,\n",
       "  0.6999999999999998,\n",
       "  0.6999999999999998],\n",
       " [0.5999999999999999,\n",
       "  0.29999999999999993,\n",
       "  0.9999999999999998,\n",
       "  0.5999999999999999,\n",
       "  0.5999999999999999],\n",
       " [0.7999999999999998,\n",
       "  0.6999999999999998,\n",
       "  0.5999999999999999,\n",
       "  0.9999999999999998,\n",
       "  0.7999999999999998],\n",
       " [0.9999999999999998,\n",
       "  0.6999999999999998,\n",
       "  0.5999999999999999,\n",
       "  0.7999999999999998,\n",
       "  0.9999999999999998]]"
      ]
     },
     "execution_count": 36,
     "metadata": {},
     "output_type": "execute_result"
    }
   ],
   "source": [
    "cosine_similarity"
   ]
  },
  {
   "cell_type": "code",
   "execution_count": 37,
   "metadata": {},
   "outputs": [
    {
     "data": {
      "text/plain": [
       "[1, 0, 4, 0, 0, 0, 1, 1, 1]"
      ]
     },
     "execution_count": 37,
     "metadata": {},
     "output_type": "execute_result"
    }
   ],
   "source": [
    "frequency1[1]"
   ]
  },
  {
   "cell_type": "code",
   "execution_count": null,
   "metadata": {},
   "outputs": [],
   "source": []
  },
  {
   "cell_type": "code",
   "execution_count": 91,
   "metadata": {},
   "outputs": [
    {
     "name": "stdout",
     "output_type": "stream",
     "text": [
      "7\n"
     ]
    }
   ],
   "source": [
    "print(dot_product(frequency1[0],frequency1[1]))"
   ]
  },
  {
   "cell_type": "code",
   "execution_count": null,
   "metadata": {},
   "outputs": [],
   "source": []
  }
 ],
 "metadata": {
  "kernelspec": {
   "display_name": "Python 3",
   "language": "python",
   "name": "python3"
  },
  "language_info": {
   "codemirror_mode": {
    "name": "ipython",
    "version": 3
   },
   "file_extension": ".py",
   "mimetype": "text/x-python",
   "name": "python",
   "nbconvert_exporter": "python",
   "pygments_lexer": "ipython3",
   "version": "3.8.3"
  }
 },
 "nbformat": 4,
 "nbformat_minor": 4
}
